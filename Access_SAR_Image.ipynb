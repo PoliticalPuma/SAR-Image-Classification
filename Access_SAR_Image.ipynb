{
  "nbformat": 4,
  "nbformat_minor": 0,
  "metadata": {
    "kernelspec": {
      "display_name": "Project",
      "language": "python",
      "name": "project"
    },
    "language_info": {
      "codemirror_mode": {
        "name": "ipython",
        "version": 3
      },
      "file_extension": ".py",
      "mimetype": "text/x-python",
      "name": "python",
      "nbconvert_exporter": "python",
      "pygments_lexer": "ipython3",
      "version": "3.8.3"
    },
    "colab": {
      "name": "Access_SAR_Image.ipynb",
      "provenance": []
    }
  },
  "cells": [
    {
      "cell_type": "code",
      "metadata": {
        "id": "SxLbFL7tATAz",
        "colab_type": "code",
        "colab": {}
      },
      "source": [
        "#Created by Rahul Kotru\n",
        "#@Github PoliticalPuma\n",
        "import gdal\n",
        "import numpy as np\n",
        "import matplotlib.pyplot as plt\n",
        "%matplotlib inline\n",
        "from tifffile import imsave"
      ],
      "execution_count": null,
      "outputs": []
    },
    {
      "cell_type": "markdown",
      "metadata": {
        "id": "ZeH4Uv3wAYz3",
        "colab_type": "text"
      },
      "source": [
        "# Copy the full directory path of the file."
      ]
    },
    {
      "cell_type": "code",
      "metadata": {
        "id": "QqLuMyFXATA3",
        "colab_type": "code",
        "colab": {}
      },
      "source": [
        "fn=gdal.Open(\"\") #Path of file with .bin/Gtiff extension\n",
        "type(fn)"
      ],
      "execution_count": null,
      "outputs": []
    },
    {
      "cell_type": "markdown",
      "metadata": {
        "id": "dmCEUJ9LAqT6",
        "colab_type": "text"
      },
      "source": [
        "#Convert image to NumPy array"
      ]
    },
    {
      "cell_type": "code",
      "metadata": {
        "id": "1WU2gxYJATA5",
        "colab_type": "code",
        "colab": {}
      },
      "source": [
        "fn_array=fn.ReadAsArray() #Read image as a NumPy array\n",
        "type(fn_array) \n",
        "np.shape(fn)#Check Shape of the array"
      ],
      "execution_count": null,
      "outputs": []
    },
    {
      "cell_type": "markdown",
      "metadata": {
        "id": "h1p60KHqAwqN",
        "colab_type": "text"
      },
      "source": [
        "##Option 1 Convert to .Tiff for lossless conversion"
      ]
    },
    {
      "cell_type": "code",
      "metadata": {
        "id": "YZABPyUyATA7",
        "colab_type": "code",
        "colab": {}
      },
      "source": [
        "imsave('fn.tiff',fn_array)# To save NumPy array as image with .tiff \n",
        "# as Tiff provides lossless compression."
      ],
      "execution_count": null,
      "outputs": []
    },
    {
      "cell_type": "markdown",
      "metadata": {
        "id": "PlaImUCAA5Rw",
        "colab_type": "text"
      },
      "source": [
        "##Option 2 Save Float32 values as .csv file"
      ]
    },
    {
      "cell_type": "code",
      "metadata": {
        "id": "eH6rGeVqATA9",
        "colab_type": "code",
        "colab": {}
      },
      "source": [
        "np.savetxt(\"fn.csv\",fn_array,delimiter=',') # To save NumPy array with .csv extension."
      ],
      "execution_count": null,
      "outputs": []
    }
  ]
}