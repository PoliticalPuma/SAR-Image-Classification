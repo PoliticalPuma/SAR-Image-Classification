{
 "cells": [
  {
   "cell_type": "markdown",
   "metadata": {},
   "source": [
    "# Crop-out sections of Image \n",
    "### Created by Rahul Kotru \n",
    "### GitHub @ PoliticalPuma"
   ]
  },
  {
   "cell_type": "code",
   "execution_count": null,
   "metadata": {},
   "outputs": [],
   "source": [
    "from PIL import Image\n",
    "import numpy as np\n",
    "from tifffile import imsave"
   ]
  },
  {
   "cell_type": "code",
   "execution_count": 2,
   "metadata": {},
   "outputs": [],
   "source": [
    "def load_image(name):\n",
    "    img=Image.open(name)\n",
    "    return img   "
   ]
  },
  {
   "cell_type": "code",
   "execution_count": 121,
   "metadata": {},
   "outputs": [],
   "source": [
    "test= load_image('Path.tif')"
   ]
  },
  {
   "cell_type": "code",
   "execution_count": null,
   "metadata": {},
   "outputs": [],
   "source": [
    "Partition_no=            #Enter number of partitons per image.\n"
   ]
  },
  {
   "cell_type": "code",
   "execution_count": 5,
   "metadata": {},
   "outputs": [],
   "source": [
    "def crop_img(imag):\n",
    "    for num in range(Partition_no):          #My image was of dimension 1328x2260\n",
    "        \n",
    "        if (num==1):\n",
    "            cropped=imag.crop((0,0,512,512)) #Enter Pixel range.(topleft,upper,bottomright,lower)\n",
    "            convert_array=np.array(cropped)\n",
    "            imsave('1.tif',convert_array)\n",
    "            print(\"First done\")\n",
    "        elif (num==3):\n",
    "            cropped=imag.crop((816,0,1328,512))\n",
    "            convert_array=np.array(cropped)\n",
    "            imsave('2.tif',convert_array)\n",
    "            print(\"Third done\")\n",
    "        elif (num==2):\n",
    "            cropped=imag.crop((513,0,1025,512))\n",
    "            convert_array=np.array(cropped)\n",
    "            imsave('3.tif',convert_array)\n",
    "            print(\"Second done\")\n",
    "        elif (num==4):\n",
    "            cropped=imag.crop((0,512,512,1024))\n",
    "            convert_array=np.array(cropped)\n",
    "            imsave('4.tif',convert_array)\n",
    "            print(\"Fourth done\")\n",
    "        elif(num==5):\n",
    "            cropped=imag.crop((513,512,1025,1024))\n",
    "            convert_array=np.array(cropped)\n",
    "            imsave('5.tif',convert_array)\n",
    "            print(\"Fifth done\")\n",
    "        elif (num==6):\n",
    "            cropped=imag.crop((816,512,1328,1024))\n",
    "            convert_array=np.array(cropped)\n",
    "            imsave('6.tif',convert_array)\n",
    "            print(\"Sixth done\")\n",
    "        elif (num==7):\n",
    "            cropped=imag.crop((0,1024,512,1536))\n",
    "            convert_array=np.array(cropped)\n",
    "            imsave('7.tif',convert_array)\n",
    "            print(\"Seventh done\")\n",
    "        elif (num==8):\n",
    "            cropped=imag.crop((513,1024,1025,1536))\n",
    "            convert_array=np.array(cropped)\n",
    "            imsave('8.tif',convert_array)\n",
    "            print(\"Eighth done\")\n",
    "        elif (num==9):\n",
    "            cropped=imag.crop((816,1024,1328,1536))\n",
    "            convert_array=np.array(cropped)\n",
    "            imsave('9.tif',convert_array)\n",
    "            print('Ninth done')\n",
    "        elif(num==10):\n",
    "            cropped=imag.crop((0,1536,512,2048))\n",
    "            convert_array=np.array(cropped)\n",
    "            imsave('10.tif',convert_array)\n",
    "            print('Tenth done')\n",
    "        elif(num==11):\n",
    "            cropped=imag.crop((513,1536,1025,2048))\n",
    "            convert_array=np.array(cropped)\n",
    "            imsave('11.tif',convert_array)\n",
    "            print(\"Eleventh done\")\n",
    "        elif(num==12):\n",
    "            cropped=imag.crop((816,1536,1328,2048))\n",
    "            convert_array=np.array(cropped)\n",
    "            imsave('12.tif',convert_array)\n",
    "            print(\"Twelth done\")\n",
    "        elif(num==13):\n",
    "            cropped=imag.crop((0,1748,512,2260))\n",
    "            convert_array=np.array(cropped)\n",
    "            imsave('13.tif',convert_array)\n",
    "            print(\"Thirteenth done\")\n",
    "        elif(num==14):\n",
    "            cropped=imag.crop((513,1748,1025,2260))\n",
    "            convert_array=np.array(cropped)\n",
    "            imsave('14.tif',convert_array)\n",
    "            print(\"Fourteenth done\")\n",
    "        elif(num==15):\n",
    "            cropped=imag.crop((816,1748,1328,2260))\n",
    "            convert_array=np.array(cropped)\n",
    "            imsave('15.tif',convert_array)\n",
    "            print(\"Fifteenth done\")\n",
    "        else:\n",
    "            print(\"Starting up engine\")\n",
    "\n",
    "    return print(\"Success\")"
   ]
  },
  {
   "cell_type": "code",
   "execution_count": 6,
   "metadata": {},
   "outputs": [
    {
     "name": "stdout",
     "output_type": "stream",
     "text": [
      "Starting up engine\n",
      "First done\n",
      "Second done\n",
      "Third done\n",
      "Fourth done\n",
      "Fifth done\n",
      "Sixth done\n",
      "Seventh done\n",
      "Eighth done\n",
      "Ninth done\n",
      "Tenth done\n",
      "Eleventh done\n",
      "Twelth done\n",
      "Thirteenth done\n",
      "Fourteenth done\n",
      "Fifteenth done\n",
      "Success\n"
     ]
    }
   ],
   "source": [
    "test_crop = crop_img(test)"
   ]
  },
  {
   "cell_type": "code",
   "execution_count": null,
   "metadata": {},
   "outputs": [],
   "source": []
  }
 ],
 "metadata": {
  "kernelspec": {
   "display_name": "Python 3.7 (tensorflow)",
   "language": "python",
   "name": "tensorflow"
  },
  "language_info": {
   "codemirror_mode": {
    "name": "ipython",
    "version": 3
   },
   "file_extension": ".py",
   "mimetype": "text/x-python",
   "name": "python",
   "nbconvert_exporter": "python",
   "pygments_lexer": "ipython3",
   "version": "3.7.7"
  }
 },
 "nbformat": 4,
 "nbformat_minor": 4
}
